{
 "cells": [
  {
   "cell_type": "markdown",
   "id": "8f5448b8",
   "metadata": {},
   "source": [
    "# Import 3rd Party Libraries"
   ]
  },
  {
   "cell_type": "code",
   "execution_count": null,
   "id": "300a966c",
   "metadata": {},
   "outputs": [],
   "source": [
    "import pandas as pd\n",
    "import numpy as np\n",
    "\n",
    "from pandas import DataFrame\n",
    "from pandas import Series"
   ]
  },
  {
   "cell_type": "markdown",
   "id": "9d8035a4",
   "metadata": {},
   "source": [
    "# Read Arizona Census From 2018 CSV (5 years)"
   ]
  },
  {
   "cell_type": "code",
   "execution_count": 2,
   "id": "462f43b5",
   "metadata": {},
   "outputs": [
    {
     "data": {
      "text/html": [
       "<div>\n",
       "<style scoped>\n",
       "    .dataframe tbody tr th:only-of-type {\n",
       "        vertical-align: middle;\n",
       "    }\n",
       "\n",
       "    .dataframe tbody tr th {\n",
       "        vertical-align: top;\n",
       "    }\n",
       "\n",
       "    .dataframe thead th {\n",
       "        text-align: right;\n",
       "    }\n",
       "</style>\n",
       "<table border=\"1\" class=\"dataframe\">\n",
       "  <thead>\n",
       "    <tr style=\"text-align: right;\">\n",
       "      <th></th>\n",
       "      <th>GEO_ID</th>\n",
       "      <th>NAME</th>\n",
       "      <th>DP02_0001E</th>\n",
       "      <th>DP02_0001EA</th>\n",
       "      <th>DP02_0001M</th>\n",
       "      <th>DP02_0001MA</th>\n",
       "      <th>DP02_0002E</th>\n",
       "      <th>DP02_0002EA</th>\n",
       "      <th>DP02_0002M</th>\n",
       "      <th>DP02_0002MA</th>\n",
       "      <th>...</th>\n",
       "      <th>DP02_0150PM</th>\n",
       "      <th>DP02_0150PMA</th>\n",
       "      <th>DP02_0151PE</th>\n",
       "      <th>DP02_0151PEA</th>\n",
       "      <th>DP02_0151PM</th>\n",
       "      <th>DP02_0151PMA</th>\n",
       "      <th>DP02_0152PE</th>\n",
       "      <th>DP02_0152PM</th>\n",
       "      <th>DP02_0152PMA</th>\n",
       "      <th>DP02_0152PEA</th>\n",
       "    </tr>\n",
       "  </thead>\n",
       "  <tbody>\n",
       "    <tr>\n",
       "      <th>0</th>\n",
       "      <td>Geography</td>\n",
       "      <td>Geographic Area Name</td>\n",
       "      <td>Estimate!!HOUSEHOLDS BY TYPE!!Total households</td>\n",
       "      <td>Annotation of Estimate!!HOUSEHOLDS BY TYPE!!To...</td>\n",
       "      <td>Margin of Error!!HOUSEHOLDS BY TYPE!!Total hou...</td>\n",
       "      <td>Annotation of Margin of Error!!HOUSEHOLDS BY T...</td>\n",
       "      <td>Estimate!!HOUSEHOLDS BY TYPE!!Total households...</td>\n",
       "      <td>Annotation of Estimate!!HOUSEHOLDS BY TYPE!!To...</td>\n",
       "      <td>Margin of Error!!HOUSEHOLDS BY TYPE!!Total hou...</td>\n",
       "      <td>Annotation of Margin of Error!!HOUSEHOLDS BY T...</td>\n",
       "      <td>...</td>\n",
       "      <td>Percent Margin of Error!!COMPUTERS AND INTERNE...</td>\n",
       "      <td>Percent Annotation of Margin of Error!!COMPUTE...</td>\n",
       "      <td>Percent Estimate!!COMPUTERS AND INTERNET USE!!...</td>\n",
       "      <td>Percent Annotation of Estimate!!COMPUTERS AND ...</td>\n",
       "      <td>Percent Margin of Error!!COMPUTERS AND INTERNE...</td>\n",
       "      <td>Percent Annotation of Margin of Error!!COMPUTE...</td>\n",
       "      <td>Percent Estimate!!COMPUTERS AND INTERNET USE!!...</td>\n",
       "      <td>Percent Margin of Error!!COMPUTERS AND INTERNE...</td>\n",
       "      <td>Percent Annotation of Margin of Error!!COMPUTE...</td>\n",
       "      <td>Percent Annotation of Estimate!!COMPUTERS AND ...</td>\n",
       "    </tr>\n",
       "    <tr>\n",
       "      <th>1</th>\n",
       "      <td>0500000US04001</td>\n",
       "      <td>Apache County, Arizona</td>\n",
       "      <td>21936</td>\n",
       "      <td>NaN</td>\n",
       "      <td>1023</td>\n",
       "      <td>NaN</td>\n",
       "      <td>13927</td>\n",
       "      <td>NaN</td>\n",
       "      <td>1048</td>\n",
       "      <td>NaN</td>\n",
       "      <td>...</td>\n",
       "      <td>(X)</td>\n",
       "      <td>(X)</td>\n",
       "      <td>52.9</td>\n",
       "      <td>NaN</td>\n",
       "      <td>3.4</td>\n",
       "      <td>NaN</td>\n",
       "      <td>35.3</td>\n",
       "      <td>3.5</td>\n",
       "      <td>NaN</td>\n",
       "      <td>NaN</td>\n",
       "    </tr>\n",
       "    <tr>\n",
       "      <th>2</th>\n",
       "      <td>0500000US04003</td>\n",
       "      <td>Cochise County, Arizona</td>\n",
       "      <td>49751</td>\n",
       "      <td>NaN</td>\n",
       "      <td>1727</td>\n",
       "      <td>NaN</td>\n",
       "      <td>31105</td>\n",
       "      <td>NaN</td>\n",
       "      <td>1978</td>\n",
       "      <td>NaN</td>\n",
       "      <td>...</td>\n",
       "      <td>(X)</td>\n",
       "      <td>(X)</td>\n",
       "      <td>89.7</td>\n",
       "      <td>NaN</td>\n",
       "      <td>2.4</td>\n",
       "      <td>NaN</td>\n",
       "      <td>83</td>\n",
       "      <td>3</td>\n",
       "      <td>NaN</td>\n",
       "      <td>NaN</td>\n",
       "    </tr>\n",
       "    <tr>\n",
       "      <th>3</th>\n",
       "      <td>0500000US04005</td>\n",
       "      <td>Coconino County, Arizona</td>\n",
       "      <td>47275</td>\n",
       "      <td>NaN</td>\n",
       "      <td>2211</td>\n",
       "      <td>NaN</td>\n",
       "      <td>29827</td>\n",
       "      <td>NaN</td>\n",
       "      <td>2311</td>\n",
       "      <td>NaN</td>\n",
       "      <td>...</td>\n",
       "      <td>(X)</td>\n",
       "      <td>(X)</td>\n",
       "      <td>93.2</td>\n",
       "      <td>NaN</td>\n",
       "      <td>1.9</td>\n",
       "      <td>NaN</td>\n",
       "      <td>81</td>\n",
       "      <td>2.9</td>\n",
       "      <td>NaN</td>\n",
       "      <td>NaN</td>\n",
       "    </tr>\n",
       "    <tr>\n",
       "      <th>4</th>\n",
       "      <td>0500000US04013</td>\n",
       "      <td>Maricopa County, Arizona</td>\n",
       "      <td>1582464</td>\n",
       "      <td>NaN</td>\n",
       "      <td>7714</td>\n",
       "      <td>NaN</td>\n",
       "      <td>1043279</td>\n",
       "      <td>NaN</td>\n",
       "      <td>10065</td>\n",
       "      <td>NaN</td>\n",
       "      <td>...</td>\n",
       "      <td>(X)</td>\n",
       "      <td>(X)</td>\n",
       "      <td>94.8</td>\n",
       "      <td>NaN</td>\n",
       "      <td>0.2</td>\n",
       "      <td>NaN</td>\n",
       "      <td>88.7</td>\n",
       "      <td>0.4</td>\n",
       "      <td>NaN</td>\n",
       "      <td>NaN</td>\n",
       "    </tr>\n",
       "  </tbody>\n",
       "</table>\n",
       "<p>5 rows × 1218 columns</p>\n",
       "</div>"
      ],
      "text/plain": [
       "           GEO_ID                      NAME  \\\n",
       "0       Geography      Geographic Area Name   \n",
       "1  0500000US04001    Apache County, Arizona   \n",
       "2  0500000US04003   Cochise County, Arizona   \n",
       "3  0500000US04005  Coconino County, Arizona   \n",
       "4  0500000US04013  Maricopa County, Arizona   \n",
       "\n",
       "                                       DP02_0001E  \\\n",
       "0  Estimate!!HOUSEHOLDS BY TYPE!!Total households   \n",
       "1                                           21936   \n",
       "2                                           49751   \n",
       "3                                           47275   \n",
       "4                                         1582464   \n",
       "\n",
       "                                         DP02_0001EA  \\\n",
       "0  Annotation of Estimate!!HOUSEHOLDS BY TYPE!!To...   \n",
       "1                                                NaN   \n",
       "2                                                NaN   \n",
       "3                                                NaN   \n",
       "4                                                NaN   \n",
       "\n",
       "                                          DP02_0001M  \\\n",
       "0  Margin of Error!!HOUSEHOLDS BY TYPE!!Total hou...   \n",
       "1                                               1023   \n",
       "2                                               1727   \n",
       "3                                               2211   \n",
       "4                                               7714   \n",
       "\n",
       "                                         DP02_0001MA  \\\n",
       "0  Annotation of Margin of Error!!HOUSEHOLDS BY T...   \n",
       "1                                                NaN   \n",
       "2                                                NaN   \n",
       "3                                                NaN   \n",
       "4                                                NaN   \n",
       "\n",
       "                                          DP02_0002E  \\\n",
       "0  Estimate!!HOUSEHOLDS BY TYPE!!Total households...   \n",
       "1                                              13927   \n",
       "2                                              31105   \n",
       "3                                              29827   \n",
       "4                                            1043279   \n",
       "\n",
       "                                         DP02_0002EA  \\\n",
       "0  Annotation of Estimate!!HOUSEHOLDS BY TYPE!!To...   \n",
       "1                                                NaN   \n",
       "2                                                NaN   \n",
       "3                                                NaN   \n",
       "4                                                NaN   \n",
       "\n",
       "                                          DP02_0002M  \\\n",
       "0  Margin of Error!!HOUSEHOLDS BY TYPE!!Total hou...   \n",
       "1                                               1048   \n",
       "2                                               1978   \n",
       "3                                               2311   \n",
       "4                                              10065   \n",
       "\n",
       "                                         DP02_0002MA  ...  \\\n",
       "0  Annotation of Margin of Error!!HOUSEHOLDS BY T...  ...   \n",
       "1                                                NaN  ...   \n",
       "2                                                NaN  ...   \n",
       "3                                                NaN  ...   \n",
       "4                                                NaN  ...   \n",
       "\n",
       "                                         DP02_0150PM  \\\n",
       "0  Percent Margin of Error!!COMPUTERS AND INTERNE...   \n",
       "1                                                (X)   \n",
       "2                                                (X)   \n",
       "3                                                (X)   \n",
       "4                                                (X)   \n",
       "\n",
       "                                        DP02_0150PMA  \\\n",
       "0  Percent Annotation of Margin of Error!!COMPUTE...   \n",
       "1                                                (X)   \n",
       "2                                                (X)   \n",
       "3                                                (X)   \n",
       "4                                                (X)   \n",
       "\n",
       "                                         DP02_0151PE  \\\n",
       "0  Percent Estimate!!COMPUTERS AND INTERNET USE!!...   \n",
       "1                                               52.9   \n",
       "2                                               89.7   \n",
       "3                                               93.2   \n",
       "4                                               94.8   \n",
       "\n",
       "                                        DP02_0151PEA  \\\n",
       "0  Percent Annotation of Estimate!!COMPUTERS AND ...   \n",
       "1                                                NaN   \n",
       "2                                                NaN   \n",
       "3                                                NaN   \n",
       "4                                                NaN   \n",
       "\n",
       "                                         DP02_0151PM  \\\n",
       "0  Percent Margin of Error!!COMPUTERS AND INTERNE...   \n",
       "1                                                3.4   \n",
       "2                                                2.4   \n",
       "3                                                1.9   \n",
       "4                                                0.2   \n",
       "\n",
       "                                        DP02_0151PMA  \\\n",
       "0  Percent Annotation of Margin of Error!!COMPUTE...   \n",
       "1                                                NaN   \n",
       "2                                                NaN   \n",
       "3                                                NaN   \n",
       "4                                                NaN   \n",
       "\n",
       "                                         DP02_0152PE  \\\n",
       "0  Percent Estimate!!COMPUTERS AND INTERNET USE!!...   \n",
       "1                                               35.3   \n",
       "2                                                 83   \n",
       "3                                                 81   \n",
       "4                                               88.7   \n",
       "\n",
       "                                         DP02_0152PM  \\\n",
       "0  Percent Margin of Error!!COMPUTERS AND INTERNE...   \n",
       "1                                                3.5   \n",
       "2                                                  3   \n",
       "3                                                2.9   \n",
       "4                                                0.4   \n",
       "\n",
       "                                        DP02_0152PMA  \\\n",
       "0  Percent Annotation of Margin of Error!!COMPUTE...   \n",
       "1                                                NaN   \n",
       "2                                                NaN   \n",
       "3                                                NaN   \n",
       "4                                                NaN   \n",
       "\n",
       "                                        DP02_0152PEA  \n",
       "0  Percent Annotation of Estimate!!COMPUTERS AND ...  \n",
       "1                                                NaN  \n",
       "2                                                NaN  \n",
       "3                                                NaN  \n",
       "4                                                NaN  \n",
       "\n",
       "[5 rows x 1218 columns]"
      ]
     },
     "execution_count": 2,
     "metadata": {},
     "output_type": "execute_result"
    }
   ],
   "source": [
    "df = pd.read_csv(r\"C:\\Users\\user\\Desktop\\Data_2018.csv\")\n",
    "df.head()"
   ]
  },
  {
   "cell_type": "code",
   "execution_count": 3,
   "id": "f1839801",
   "metadata": {},
   "outputs": [
    {
     "name": "stdout",
     "output_type": "stream",
     "text": [
      "<class 'pandas.core.frame.DataFrame'>\n",
      "RangeIndex: 214 entries, 0 to 213\n",
      "Columns: 1218 entries, GEO_ID to DP02_0152PEA\n",
      "dtypes: object(1218)\n",
      "memory usage: 2.0+ MB\n"
     ]
    }
   ],
   "source": [
    "df.info()"
   ]
  },
  {
   "cell_type": "markdown",
   "id": "f9cb434c",
   "metadata": {},
   "source": [
    "# Delete Column Title = 001 By Value, Value = Null"
   ]
  },
  {
   "cell_type": "code",
   "execution_count": null,
   "id": "7860f741",
   "metadata": {},
   "outputs": [],
   "source": [
    "df.drop(['DP02_0001EA','DP02_0001MA'], axis = 1,inplace =True)"
   ]
  },
  {
   "cell_type": "markdown",
   "id": "42ed05df",
   "metadata": {},
   "source": [
    "# Delete Column Title = 001 To 010 By Value, Value = Null"
   ]
  },
  {
   "cell_type": "code",
   "execution_count": 5,
   "id": "9a915ef0",
   "metadata": {},
   "outputs": [],
   "source": [
    "df.drop(['DP02_0002EA','DP02_0002MA','DP02_0003EA', 'DP02_0003MA'], axis = 1,inplace =True)"
   ]
  },
  {
   "cell_type": "code",
   "execution_count": 7,
   "id": "a0497fdb",
   "metadata": {},
   "outputs": [],
   "source": [
    "df.drop(['DP02_0004MA','DP02_0004EA'], axis = 1,inplace =True)"
   ]
  },
  {
   "cell_type": "code",
   "execution_count": 8,
   "id": "965c0b9b",
   "metadata": {},
   "outputs": [],
   "source": [
    "df.drop(['DP02_0005EA','DP02_0005MA','DP02_0006MA','DP02_0006EA','DP02_0007EA','DP02_0007MA','DP02_0008MA','DP02_0008EA'], axis = 1,inplace =True)"
   ]
  },
  {
   "cell_type": "code",
   "execution_count": 9,
   "id": "201bb8d7",
   "metadata": {},
   "outputs": [],
   "source": [
    "df.drop(['DP02_0009EA','DP02_0009MA','DP02_0010EA','DP02_0010MA'], axis = 1,inplace =True)"
   ]
  },
  {
   "cell_type": "markdown",
   "id": "96721e85",
   "metadata": {},
   "source": [
    "# Delete Column Title By Value = 010 To 050, Value = Null"
   ]
  },
  {
   "cell_type": "code",
   "execution_count": 10,
   "id": "e9a1b7d8",
   "metadata": {},
   "outputs": [],
   "source": [
    "df.drop(['DP02_0011MA','DP02_0011EA','DP02_0012EA', 'DP02_0012MA','DP02_0013EA','DP02_0013MA','DP02_0014EA','DP02_0014MA','DP02_0015EA','DP02_0015MA','DP02_0016EA','DP02_0016MA','DP02_0017MA'], axis = 1,inplace =True)"
   ]
  },
  {
   "cell_type": "code",
   "execution_count": 11,
   "id": "1ae0c7dc",
   "metadata": {},
   "outputs": [],
   "source": [
    "df.drop(['DP02_0018EA','DP02_0018MA','DP02_0019MA','DP02_0019EA','DP02_0020EA','DP02_0020MA','DP02_0021EA',], axis = 1,inplace =True)"
   ]
  },
  {
   "cell_type": "code",
   "execution_count": 12,
   "id": "f7c161e7",
   "metadata": {},
   "outputs": [],
   "source": [
    "df.drop(['DP02_0021MA','DP02_0022MA','DP02_0022EA','DP02_0023EA','DP02_0023MA','DP02_0024EA','DP02_0024MA'], axis = 1,inplace =True)"
   ]
  },
  {
   "cell_type": "code",
   "execution_count": 13,
   "id": "43ef6faf",
   "metadata": {},
   "outputs": [],
   "source": [
    "df.drop(['DP02_0025EA','DP02_0025MA','DP02_0026EA','DP02_0026MA','DP02_0027MA','DP02_0027EA','DP02_0028MA','DP02_0028EA','DP02_0029MA'], axis = 1,inplace =True)"
   ]
  },
  {
   "cell_type": "code",
   "execution_count": 14,
   "id": "a1fc36e2",
   "metadata": {},
   "outputs": [],
   "source": [
    "df.drop(['DP02_0029EA','DP02_0030EA','DP02_0030MA','DP02_0031EA','DP02_0031MA','DP02_0032MA','DP02_0033MA','DP02_0034EA','DP02_0034MA','DP02_0035EA'], axis = 1,inplace =True)"
   ]
  },
  {
   "cell_type": "code",
   "execution_count": 15,
   "id": "5e0fb60f",
   "metadata": {},
   "outputs": [],
   "source": [
    "df.drop(['DP02_0036EA','DP02_0036MA','DP02_0037EA','DP02_0038MA','DP02_0039EA','DP02_0040EA','DP02_0040MA','DP02_0041EA','DP02_0042MA','DP02_0043EA'], axis = 1,inplace =True)"
   ]
  },
  {
   "cell_type": "code",
   "execution_count": 16,
   "id": "00b9f723",
   "metadata": {},
   "outputs": [],
   "source": [
    "df.drop(['DP02_0044EA','DP02_0045MA','DP02_0046EA','DP02_0047EA','DP02_0048EA','DP02_0049MA','DP02_0050MA'], axis = 1,inplace =True)"
   ]
  },
  {
   "cell_type": "markdown",
   "id": "d8fbfa85",
   "metadata": {},
   "source": [
    "# Delete Column Title By Value = 050 To 100, Value = Null"
   ]
  },
  {
   "cell_type": "code",
   "execution_count": 17,
   "id": "c3556337",
   "metadata": {},
   "outputs": [],
   "source": [
    "df.drop(['DP02_0051EA','DP02_0052MA','DP02_0053MA','DP02_0054EA','DP02_0055MA','DP02_0056MA','DP02_0057EA','DP02_0058MA','DP02_0059EA'], axis = 1,inplace =True)"
   ]
  },
  {
   "cell_type": "code",
   "execution_count": null,
   "id": "9a806ae9",
   "metadata": {},
   "outputs": [],
   "source": [
    "df.drop(['DP02_0060MA','DP02_0061MA','DP02_0062EA','DP02_0063MA','DP02_0064MA','DP02_0065MA','DP02_0066M','DP02_0067MA','DP02_0068EA','DP02_0069EA'], axis = 1,inplace =True)"
   ]
  },
  {
   "cell_type": "code",
   "execution_count": 18,
   "id": "05710478",
   "metadata": {},
   "outputs": [],
   "source": [
    "df.drop(['DP02_0071MA','DP02_0072E','DP02_0073EA','DP02_0074MA','DP02_0075M','DP02_0076E','DP02_0077MA','DP02_0078MA','DP02_0079EA'], axis = 1,inplace =True)"
   ]
  },
  {
   "cell_type": "code",
   "execution_count": 19,
   "id": "f7495cad",
   "metadata": {},
   "outputs": [],
   "source": [
    "df.drop(['DP02_0080EA','DP02_0081MA','DP02_0082MA','DP02_0083MA','DP02_0084EA','DP02_0085MA','DP02_0086EA'], axis = 1,inplace =True)"
   ]
  },
  {
   "cell_type": "code",
   "execution_count": 20,
   "id": "75d1036c",
   "metadata": {},
   "outputs": [],
   "source": [
    "df.drop(['DP02_0087MA','DP02_0088MA','DP02_0089MA','DP02_0090EA','DP02_0091EA','DP02_0092MA','DP02_0093MA'], axis = 1,inplace =True)"
   ]
  },
  {
   "cell_type": "code",
   "execution_count": 21,
   "id": "63e6b603",
   "metadata": {},
   "outputs": [],
   "source": [
    "df.drop(['DP02_0094EA','DP02_0095MA','DP02_0096MA','DP02_0097MA','DP02_0098MA','DP02_0099EA','DP02_0100MA'], axis = 1,inplace =True)"
   ]
  },
  {
   "cell_type": "markdown",
   "id": "dddfc4a3",
   "metadata": {},
   "source": [
    "# Delete Column Title By Value = 100 To 150, Value = Null"
   ]
  },
  {
   "cell_type": "code",
   "execution_count": 23,
   "id": "c2e34989",
   "metadata": {},
   "outputs": [],
   "source": [
    "df.drop(['DP02_0101EA','DP02_0102MA','DP02_0103MA','DP02_0104E','DP02_0104EA','DP02_0104MA','DP02_0105MA','DP02_0106MA'], axis = 1,inplace =True)"
   ]
  },
  {
   "cell_type": "code",
   "execution_count": null,
   "id": "7fba3fe0",
   "metadata": {},
   "outputs": [],
   "source": [
    "df.drop(['DP02_0107MA','DP02_0108MA','DP02_0109EA','DP02_0110MA','DP02_0110MA','DP02_0111MA','DP02_0112EA','DP02_0113MA','DP02_0114EA'], axis = 1,inplace =True)"
   ]
  },
  {
   "cell_type": "code",
   "execution_count": 24,
   "id": "b43e1492",
   "metadata": {},
   "outputs": [],
   "source": [
    "df.drop(['DP02_0115MA','DP02_0116MA','DP02_0117MA','DP02_0118MA','DP02_0119EA','DP02_0120MA','DP02_0121MA','DP02_0122EA','DP02_0123EA','DP02_0124EA'], axis = 1,inplace =True)"
   ]
  },
  {
   "cell_type": "code",
   "execution_count": 25,
   "id": "e27b7168",
   "metadata": {},
   "outputs": [],
   "source": [
    "df.drop(['DP02_0125MA','DP02_0126MA','DP02_0127MA','DP02_0128MA','DP02_0129MA','DP02_0130EA','DP02_0130MA','DP02_0131MA','DP02_0132MA','DP02_0133MA','DP02_0134EA','DP02_0135E','DP02_0136MA','DP02_0137M'], axis = 1,inplace =True)"
   ]
  },
  {
   "cell_type": "code",
   "execution_count": null,
   "id": "ff38260b",
   "metadata": {},
   "outputs": [],
   "source": [
    "df.drop(['DP02_0138MA','DP02_0139EA','DP02_0140MA','DP02_0141EA','DP02_0142MA','DP02_0143MA','DP02_0144EA','DP02_0144MA','DP02_0145MA','DP02_0146EA','DP02_0146MA','DP02_0147MA','DP02_0148MA'], axis = 1,inplace =True)"
   ]
  },
  {
   "cell_type": "code",
   "execution_count": null,
   "id": "d8d660d7",
   "metadata": {},
   "outputs": [],
   "source": [
    "df.drop(['DP02_0149EA','DP02_0149MA','DP02_0150MA','DP02_0151MA','DP02_0151EA','DP02_0152MA','DP02_0152EA'], axis = 1,inplace =True)"
   ]
  },
  {
   "cell_type": "markdown",
   "id": "41982321",
   "metadata": {},
   "source": [
    "# Delete Column Title By Percentage = 001 To 10, Value = Null"
   ]
  },
  {
   "cell_type": "code",
   "execution_count": null,
   "id": "8d40d419",
   "metadata": {},
   "outputs": [],
   "source": [
    "df.drop(['DP02_0001PEA','DP02_0001PM','DP02_0002PEA','DP02_0002PMA','DP02_0003PEA', 'DP02_0003PMA','DP02_0004PEA','DP02_0004PMA','DP02_0005PMA','DP02_0006PEA','DP02_0007PEA','DP02_0007PMA','DP02_0008PMA','DP02_0008PEA'], axis = 1,inplace =True)"
   ]
  },
  {
   "cell_type": "code",
   "execution_count": 26,
   "id": "db1e6968",
   "metadata": {},
   "outputs": [],
   "source": [
    "df.drop(['DP02_0009PEA','DP02_0009PMA','DP02_0010PEA','DP02_0010PMA'], axis = 1,inplace =True)"
   ]
  },
  {
   "cell_type": "markdown",
   "id": "904a6238",
   "metadata": {},
   "source": [
    "# Delete Column Title By Percentage = 010 To 050, Value = Null"
   ]
  },
  {
   "cell_type": "code",
   "execution_count": 34,
   "id": "33a1e737",
   "metadata": {},
   "outputs": [],
   "source": [
    "df.drop(['DP02_0011PMA','DP02_0011PEA','DP02_0012PEA', 'DP02_0012PMA','DP02_0013PEA','DP02_0013PMA','DP02_0014PEA','DP02_0014PMA','DP02_0015PEA','DP02_0015PMA','DP02_0016PEA','DP02_0016PMA','DP02_0017PMA'], axis = 1,inplace =True)"
   ]
  },
  {
   "cell_type": "code",
   "execution_count": null,
   "id": "b327780a",
   "metadata": {},
   "outputs": [],
   "source": [
    "df.drop(['DP02_0018PEA','DP02_0018PMA','DP02_0019PMA','DP02_0019PEA','DP02_0020PEA','DP02_0020PMA','DP02_0021PEA',], axis = 1,inplace =True)"
   ]
  },
  {
   "cell_type": "code",
   "execution_count": null,
   "id": "6324e376",
   "metadata": {},
   "outputs": [],
   "source": [
    "df.drop(['DP02_0021PMA','DP02_0022PMA','DP02_0022PEA','DP02_0023PEA','DP02_0023PMA','DP02_0024PEA','DP02_0024PMA'], axis = 1,inplace =True)"
   ]
  },
  {
   "cell_type": "code",
   "execution_count": null,
   "id": "8190055e",
   "metadata": {},
   "outputs": [],
   "source": [
    "df.drop(['DP02_0025PEA','DP02_0025PMA','DP02_0026PEA','DP02_0026PMA','DP02_0027PMA','DP02_0027PEA','DP02_0028PMA','DP02_0028PEA','DP02_0029PMA'], axis = 1,inplace =True)"
   ]
  },
  {
   "cell_type": "code",
   "execution_count": null,
   "id": "33466f39",
   "metadata": {},
   "outputs": [],
   "source": [
    "df.drop(['DP02_0029PEA','DP02_0030PEA','DP02_0030PMA','DP02_0031PEA','DP02_0031PMA','DP02_0032PMA','DP02_0033PMA','DP02_0034PEA','DP02_0034PMA','DP02_0035PEA'], axis = 1,inplace =True)"
   ]
  },
  {
   "cell_type": "code",
   "execution_count": null,
   "id": "234bfa3e",
   "metadata": {},
   "outputs": [],
   "source": [
    "df.drop(['DP02_0036PEA','DP02_0036PMA','DP02_0037PEA','DP02_0038PMA','DP02_0039PEA','DP02_0040PEA','DP02_0040PMA','DP02_0041PEA','DP02_0042PMA','DP02_0043PEA'], axis = 1,inplace =True)"
   ]
  },
  {
   "cell_type": "code",
   "execution_count": null,
   "id": "4d279a7a",
   "metadata": {},
   "outputs": [],
   "source": [
    "df.drop(['DP02_0044PEA','DP02_0045PMA','DP02_0046PEA','DP02_0047PEA','DP02_0048PEA','DP02_0049PMA','DP02_0050PMA'], axis = 1,inplace =True)"
   ]
  },
  {
   "cell_type": "markdown",
   "id": "8fbf61ad",
   "metadata": {},
   "source": [
    "# Delete Column Title By Percentage = 050 To 100, Value = Null"
   ]
  },
  {
   "cell_type": "code",
   "execution_count": 35,
   "id": "1216e544",
   "metadata": {},
   "outputs": [],
   "source": [
    "df.drop(['DP02_0051PEA','DP02_0052PMA','DP02_0053PMA','DP02_0054PEA','DP02_0055PMA','DP02_0056PMA','DP02_0057PEA','DP02_0058PMA','DP02_0059PEA'], axis = 1,inplace =True)"
   ]
  },
  {
   "cell_type": "code",
   "execution_count": 36,
   "id": "6c1fbe7a",
   "metadata": {},
   "outputs": [],
   "source": [
    "df.drop(['DP02_0060PMA','DP02_0061PMA','DP02_0062PEA','DP02_0063PMA','DP02_0064PMA','DP02_0065PMA','DP02_0066PMA','DP02_0067PMA','DP02_0068PEA','DP02_0069PEA'], axis = 1,inplace =True)"
   ]
  },
  {
   "cell_type": "code",
   "execution_count": null,
   "id": "24a3bb4a",
   "metadata": {},
   "outputs": [],
   "source": [
    "df.drop(['DP02_0071PMA','DP02_0072PEA','DP02_0073PEA','DP02_0074PMA','DP02_0075PMA','DP02_0076PEA','DP02_0077PMA','DP02_0078PMA','DP02_0079PEA'], axis = 1,inplace =True)"
   ]
  },
  {
   "cell_type": "code",
   "execution_count": null,
   "id": "c74ce931",
   "metadata": {},
   "outputs": [],
   "source": [
    "df.drop(['DP02_0080PEA','DP02_0081PMA','DP02_0082PMA','DP02_0083PMA','DP02_0084PEA','DP02_0085PMA','DP02_0086PEA'], axis = 1,inplace =True)"
   ]
  },
  {
   "cell_type": "code",
   "execution_count": null,
   "id": "73dc78c5",
   "metadata": {},
   "outputs": [],
   "source": [
    "df.drop(['DP02_0087PMA','DP02_0088PMA','DP02_0089PMA','DP02_0090PEA','DP02_0091PEA','DP02_0092PMA','DP02_0093PMA'], axis = 1,inplace =True)"
   ]
  },
  {
   "cell_type": "code",
   "execution_count": null,
   "id": "0f51da10",
   "metadata": {},
   "outputs": [],
   "source": [
    "df.drop(['DP02_0094PEA','DP02_0095PMA','DP02_0096PMA','DP02_0097PMA','DP02_0098PMA','DP02_0099PEA','DP02_0100PMA'], axis = 1,inplace =True)"
   ]
  },
  {
   "cell_type": "markdown",
   "id": "4667f27c",
   "metadata": {},
   "source": [
    "# Delete Column Title By Percentage = 100 To 150, Value = Null"
   ]
  },
  {
   "cell_type": "code",
   "execution_count": 37,
   "id": "0730f892",
   "metadata": {},
   "outputs": [],
   "source": [
    "df.drop(['DP02_0101PEA','DP02_0102PMA','DP02_0103PMA','DP02_0104PEA','DP02_0104PEA','DP02_0104PMA','DP02_0105PMA','DP02_0106PMA'], axis = 1,inplace =True)"
   ]
  },
  {
   "cell_type": "code",
   "execution_count": null,
   "id": "500b217d",
   "metadata": {},
   "outputs": [],
   "source": [
    "df.drop(['DP02_0107PMA','DP02_0108PMA','DP02_0109PEA','DP02_0110PMA','DP02_0110PMA','DP02_0111PMA','DP02_0112PEA','DP02_0113PMA','DP02_0114PEA'], axis = 1,inplace =True)"
   ]
  },
  {
   "cell_type": "code",
   "execution_count": null,
   "id": "30839924",
   "metadata": {},
   "outputs": [],
   "source": [
    "df.drop(['DP02_0115PMA','DP02_0116PMA','DP02_0117PMA','DP02_0118PMA','DP02_0119PEA','DP02_0120PMA','DP02_0121PMA','DP02_0122PEA','DP02_0123PEA','DP02_0124PEA'], axis = 1,inplace =True)"
   ]
  },
  {
   "cell_type": "code",
   "execution_count": null,
   "id": "01272ea8",
   "metadata": {},
   "outputs": [],
   "source": [
    "df.drop(['DP02_0125PMA','DP02_0126PMA','DP02_0127PMA','DP02_0128PMA','DP02_0129PMA','DP02_0130PEA','DP02_0130PMA','DP02_0131PMA','DP02_0132PMA','DP02_0133PMA','DP02_0134PEA','DP02_0135PEA','DP02_0136PMA','DP02_0137PMA'], axis = 1,inplace =True)"
   ]
  },
  {
   "cell_type": "code",
   "execution_count": null,
   "id": "e52ca5b6",
   "metadata": {},
   "outputs": [],
   "source": [
    "df.drop(['DP02_0138PMA','DP02_0139PEA','DP02_0140PMA','DP02_0141PEA','DP02_0142PMA','DP02_0143PMA','DP02_0144PEA','DP02_0144PMA','DP02_0145PMA','DP02_0146PEA','DP02_0146PMA','DP02_0147PMA','DP02_0148PMA'], axis = 1,inplace =True)"
   ]
  },
  {
   "cell_type": "code",
   "execution_count": 38,
   "id": "754d921b",
   "metadata": {},
   "outputs": [],
   "source": [
    "df.drop(['DP02_0149PEA','DP02_0149PMA','DP02_0150PMA','DP02_0151PMA','DP02_0151PEA','DP02_0150PEA','DP02_0152PMA','DP02_0152PEA'], axis = 1,inplace =True)"
   ]
  },
  {
   "cell_type": "code",
   "execution_count": null,
   "id": "1a4c2860",
   "metadata": {},
   "outputs": [],
   "source": [
    "df.drop(['DP02_0148PEA','DP02_0150PEA',], axis = 1,inplace =True)"
   ]
  },
  {
   "cell_type": "markdown",
   "id": "8f650770",
   "metadata": {},
   "source": [
    "# Delete Duplicated Column"
   ]
  },
  {
   "cell_type": "code",
   "execution_count": 39,
   "id": "b2c3a88f",
   "metadata": {},
   "outputs": [
    {
     "data": {
      "text/plain": [
       "0      False\n",
       "1      False\n",
       "2      False\n",
       "3      False\n",
       "4      False\n",
       "       ...  \n",
       "209    False\n",
       "210    False\n",
       "211    False\n",
       "212    False\n",
       "213    False\n",
       "Length: 214, dtype: bool"
      ]
     },
     "execution_count": 39,
     "metadata": {},
     "output_type": "execute_result"
    }
   ],
   "source": [
    "df.duplicated(keep=False)"
   ]
  },
  {
   "cell_type": "markdown",
   "id": "730e9a11",
   "metadata": {},
   "source": [
    "# Columns Checked if duplicated"
   ]
  },
  {
   "cell_type": "code",
   "execution_count": 40,
   "id": "d9e43bde",
   "metadata": {},
   "outputs": [
    {
     "data": {
      "text/html": [
       "<div>\n",
       "<style scoped>\n",
       "    .dataframe tbody tr th:only-of-type {\n",
       "        vertical-align: middle;\n",
       "    }\n",
       "\n",
       "    .dataframe tbody tr th {\n",
       "        vertical-align: top;\n",
       "    }\n",
       "\n",
       "    .dataframe thead th {\n",
       "        text-align: right;\n",
       "    }\n",
       "</style>\n",
       "<table border=\"1\" class=\"dataframe\">\n",
       "  <thead>\n",
       "    <tr style=\"text-align: right;\">\n",
       "      <th></th>\n",
       "      <th>GEO_ID</th>\n",
       "      <th>NAME</th>\n",
       "      <th>DP02_0001E</th>\n",
       "      <th>DP02_0001M</th>\n",
       "      <th>DP02_0002E</th>\n",
       "      <th>DP02_0002M</th>\n",
       "      <th>DP02_0003E</th>\n",
       "      <th>DP02_0003M</th>\n",
       "      <th>DP02_0004E</th>\n",
       "      <th>DP02_0004M</th>\n",
       "      <th>...</th>\n",
       "      <th>DP02_0148PMA</th>\n",
       "      <th>DP02_0148PEA</th>\n",
       "      <th>DP02_0149PE</th>\n",
       "      <th>DP02_0149PM</th>\n",
       "      <th>DP02_0150PE</th>\n",
       "      <th>DP02_0150PM</th>\n",
       "      <th>DP02_0151PE</th>\n",
       "      <th>DP02_0151PM</th>\n",
       "      <th>DP02_0152PE</th>\n",
       "      <th>DP02_0152PM</th>\n",
       "    </tr>\n",
       "  </thead>\n",
       "  <tbody>\n",
       "  </tbody>\n",
       "</table>\n",
       "<p>0 rows × 1013 columns</p>\n",
       "</div>"
      ],
      "text/plain": [
       "Empty DataFrame\n",
       "Columns: [GEO_ID, NAME, DP02_0001E, DP02_0001M, DP02_0002E, DP02_0002M, DP02_0003E, DP02_0003M, DP02_0004E, DP02_0004M, DP02_0005E, DP02_0005M, DP02_0006E, DP02_0006M, DP02_0007E, DP02_0007M, DP02_0008E, DP02_0008M, DP02_0009E, DP02_0009M, DP02_0010E, DP02_0010M, DP02_0011E, DP02_0011M, DP02_0012E, DP02_0012M, DP02_0013E, DP02_0013M, DP02_0014E, DP02_0014M, DP02_0015E, DP02_0015M, DP02_0016E, DP02_0016M, DP02_0017E, DP02_0017M, DP02_0017EA, DP02_0018E, DP02_0018M, DP02_0019E, DP02_0019M, DP02_0020E, DP02_0020M, DP02_0021E, DP02_0021M, DP02_0022E, DP02_0022M, DP02_0023E, DP02_0023M, DP02_0024E, DP02_0024M, DP02_0025E, DP02_0025M, DP02_0026E, DP02_0026M, DP02_0027E, DP02_0027M, DP02_0028E, DP02_0028M, DP02_0029E, DP02_0029M, DP02_0030E, DP02_0030M, DP02_0031E, DP02_0031M, DP02_0032E, DP02_0032EA, DP02_0032M, DP02_0033E, DP02_0033M, DP02_0033EA, DP02_0034E, DP02_0034M, DP02_0035E, DP02_0035M, DP02_0035MA, DP02_0036E, DP02_0036M, DP02_0037E, DP02_0037M, DP02_0037MA, DP02_0038E, DP02_0038M, DP02_0038EA, DP02_0039E, DP02_0039M, DP02_0039MA, DP02_0040E, DP02_0040M, DP02_0041E, DP02_0041M, DP02_0041MA, DP02_0042E, DP02_0042EA, DP02_0042M, DP02_0043E, DP02_0043M, DP02_0043MA, DP02_0044E, DP02_0044M, ...]\n",
       "Index: []\n",
       "\n",
       "[0 rows x 1013 columns]"
      ]
     },
     "execution_count": 40,
     "metadata": {},
     "output_type": "execute_result"
    }
   ],
   "source": [
    "df[df.duplicated(keep=False)]"
   ]
  },
  {
   "cell_type": "code",
   "execution_count": 41,
   "id": "493885c8",
   "metadata": {},
   "outputs": [
    {
     "data": {
      "text/html": [
       "<div>\n",
       "<style scoped>\n",
       "    .dataframe tbody tr th:only-of-type {\n",
       "        vertical-align: middle;\n",
       "    }\n",
       "\n",
       "    .dataframe tbody tr th {\n",
       "        vertical-align: top;\n",
       "    }\n",
       "\n",
       "    .dataframe thead th {\n",
       "        text-align: right;\n",
       "    }\n",
       "</style>\n",
       "<table border=\"1\" class=\"dataframe\">\n",
       "  <thead>\n",
       "    <tr style=\"text-align: right;\">\n",
       "      <th></th>\n",
       "      <th>GEO_ID</th>\n",
       "      <th>NAME</th>\n",
       "      <th>DP02_0001E</th>\n",
       "      <th>DP02_0001M</th>\n",
       "      <th>DP02_0002E</th>\n",
       "      <th>DP02_0002M</th>\n",
       "      <th>DP02_0003E</th>\n",
       "      <th>DP02_0003M</th>\n",
       "      <th>DP02_0004E</th>\n",
       "      <th>DP02_0004M</th>\n",
       "      <th>...</th>\n",
       "      <th>DP02_0148PMA</th>\n",
       "      <th>DP02_0148PEA</th>\n",
       "      <th>DP02_0149PE</th>\n",
       "      <th>DP02_0149PM</th>\n",
       "      <th>DP02_0150PE</th>\n",
       "      <th>DP02_0150PM</th>\n",
       "      <th>DP02_0151PE</th>\n",
       "      <th>DP02_0151PM</th>\n",
       "      <th>DP02_0152PE</th>\n",
       "      <th>DP02_0152PM</th>\n",
       "    </tr>\n",
       "  </thead>\n",
       "  <tbody>\n",
       "  </tbody>\n",
       "</table>\n",
       "<p>0 rows × 1013 columns</p>\n",
       "</div>"
      ],
      "text/plain": [
       "Empty DataFrame\n",
       "Columns: [GEO_ID, NAME, DP02_0001E, DP02_0001M, DP02_0002E, DP02_0002M, DP02_0003E, DP02_0003M, DP02_0004E, DP02_0004M, DP02_0005E, DP02_0005M, DP02_0006E, DP02_0006M, DP02_0007E, DP02_0007M, DP02_0008E, DP02_0008M, DP02_0009E, DP02_0009M, DP02_0010E, DP02_0010M, DP02_0011E, DP02_0011M, DP02_0012E, DP02_0012M, DP02_0013E, DP02_0013M, DP02_0014E, DP02_0014M, DP02_0015E, DP02_0015M, DP02_0016E, DP02_0016M, DP02_0017E, DP02_0017M, DP02_0017EA, DP02_0018E, DP02_0018M, DP02_0019E, DP02_0019M, DP02_0020E, DP02_0020M, DP02_0021E, DP02_0021M, DP02_0022E, DP02_0022M, DP02_0023E, DP02_0023M, DP02_0024E, DP02_0024M, DP02_0025E, DP02_0025M, DP02_0026E, DP02_0026M, DP02_0027E, DP02_0027M, DP02_0028E, DP02_0028M, DP02_0029E, DP02_0029M, DP02_0030E, DP02_0030M, DP02_0031E, DP02_0031M, DP02_0032E, DP02_0032EA, DP02_0032M, DP02_0033E, DP02_0033M, DP02_0033EA, DP02_0034E, DP02_0034M, DP02_0035E, DP02_0035M, DP02_0035MA, DP02_0036E, DP02_0036M, DP02_0037E, DP02_0037M, DP02_0037MA, DP02_0038E, DP02_0038M, DP02_0038EA, DP02_0039E, DP02_0039M, DP02_0039MA, DP02_0040E, DP02_0040M, DP02_0041E, DP02_0041M, DP02_0041MA, DP02_0042E, DP02_0042EA, DP02_0042M, DP02_0043E, DP02_0043M, DP02_0043MA, DP02_0044E, DP02_0044M, ...]\n",
       "Index: []\n",
       "\n",
       "[0 rows x 1013 columns]"
      ]
     },
     "execution_count": 41,
     "metadata": {},
     "output_type": "execute_result"
    }
   ],
   "source": [
    "df[df.duplicated()]"
   ]
  },
  {
   "cell_type": "markdown",
   "id": "55168881",
   "metadata": {},
   "source": [
    "# Reset The Sequence"
   ]
  },
  {
   "cell_type": "code",
   "execution_count": 42,
   "id": "3c51a825",
   "metadata": {},
   "outputs": [
    {
     "data": {
      "text/html": [
       "<div>\n",
       "<style scoped>\n",
       "    .dataframe tbody tr th:only-of-type {\n",
       "        vertical-align: middle;\n",
       "    }\n",
       "\n",
       "    .dataframe tbody tr th {\n",
       "        vertical-align: top;\n",
       "    }\n",
       "\n",
       "    .dataframe thead th {\n",
       "        text-align: right;\n",
       "    }\n",
       "</style>\n",
       "<table border=\"1\" class=\"dataframe\">\n",
       "  <thead>\n",
       "    <tr style=\"text-align: right;\">\n",
       "      <th></th>\n",
       "      <th>GEO_ID</th>\n",
       "      <th>NAME</th>\n",
       "      <th>DP02_0001E</th>\n",
       "      <th>DP02_0001M</th>\n",
       "      <th>DP02_0002E</th>\n",
       "      <th>DP02_0002M</th>\n",
       "      <th>DP02_0003E</th>\n",
       "      <th>DP02_0003M</th>\n",
       "      <th>DP02_0004E</th>\n",
       "      <th>DP02_0004M</th>\n",
       "      <th>...</th>\n",
       "      <th>DP02_0148PMA</th>\n",
       "      <th>DP02_0148PEA</th>\n",
       "      <th>DP02_0149PE</th>\n",
       "      <th>DP02_0149PM</th>\n",
       "      <th>DP02_0150PE</th>\n",
       "      <th>DP02_0150PM</th>\n",
       "      <th>DP02_0151PE</th>\n",
       "      <th>DP02_0151PM</th>\n",
       "      <th>DP02_0152PE</th>\n",
       "      <th>DP02_0152PM</th>\n",
       "    </tr>\n",
       "  </thead>\n",
       "  <tbody>\n",
       "    <tr>\n",
       "      <th>0</th>\n",
       "      <td>Geography</td>\n",
       "      <td>Geographic Area Name</td>\n",
       "      <td>Estimate!!HOUSEHOLDS BY TYPE!!Total households</td>\n",
       "      <td>Margin of Error!!HOUSEHOLDS BY TYPE!!Total hou...</td>\n",
       "      <td>Estimate!!HOUSEHOLDS BY TYPE!!Total households...</td>\n",
       "      <td>Margin of Error!!HOUSEHOLDS BY TYPE!!Total hou...</td>\n",
       "      <td>Estimate!!HOUSEHOLDS BY TYPE!!Total households...</td>\n",
       "      <td>Margin of Error!!HOUSEHOLDS BY TYPE!!Total hou...</td>\n",
       "      <td>Estimate!!HOUSEHOLDS BY TYPE!!Total households...</td>\n",
       "      <td>Margin of Error!!HOUSEHOLDS BY TYPE!!Total hou...</td>\n",
       "      <td>...</td>\n",
       "      <td>Percent Annotation of Margin of Error!!ANCESTR...</td>\n",
       "      <td>Percent Annotation of Estimate!!ANCESTRY!!Tota...</td>\n",
       "      <td>Percent Estimate!!ANCESTRY!!Total population!!...</td>\n",
       "      <td>Percent Margin of Error!!ANCESTRY!!Total popul...</td>\n",
       "      <td>Percent Estimate!!COMPUTERS AND INTERNET USE!!...</td>\n",
       "      <td>Percent Margin of Error!!COMPUTERS AND INTERNE...</td>\n",
       "      <td>Percent Estimate!!COMPUTERS AND INTERNET USE!!...</td>\n",
       "      <td>Percent Margin of Error!!COMPUTERS AND INTERNE...</td>\n",
       "      <td>Percent Estimate!!COMPUTERS AND INTERNET USE!!...</td>\n",
       "      <td>Percent Margin of Error!!COMPUTERS AND INTERNE...</td>\n",
       "    </tr>\n",
       "    <tr>\n",
       "      <th>1</th>\n",
       "      <td>0500000US04001</td>\n",
       "      <td>Apache County, Arizona</td>\n",
       "      <td>21936</td>\n",
       "      <td>1023</td>\n",
       "      <td>13927</td>\n",
       "      <td>1048</td>\n",
       "      <td>4699</td>\n",
       "      <td>769</td>\n",
       "      <td>8137</td>\n",
       "      <td>951</td>\n",
       "      <td>...</td>\n",
       "      <td>N</td>\n",
       "      <td>N</td>\n",
       "      <td>N</td>\n",
       "      <td>N</td>\n",
       "      <td>21936</td>\n",
       "      <td>(X)</td>\n",
       "      <td>52.9</td>\n",
       "      <td>3.4</td>\n",
       "      <td>35.3</td>\n",
       "      <td>3.5</td>\n",
       "    </tr>\n",
       "    <tr>\n",
       "      <th>2</th>\n",
       "      <td>0500000US04003</td>\n",
       "      <td>Cochise County, Arizona</td>\n",
       "      <td>49751</td>\n",
       "      <td>1727</td>\n",
       "      <td>31105</td>\n",
       "      <td>1978</td>\n",
       "      <td>11722</td>\n",
       "      <td>1658</td>\n",
       "      <td>23517</td>\n",
       "      <td>1854</td>\n",
       "      <td>...</td>\n",
       "      <td>NaN</td>\n",
       "      <td>NaN</td>\n",
       "      <td>0.2</td>\n",
       "      <td>0.2</td>\n",
       "      <td>49751</td>\n",
       "      <td>(X)</td>\n",
       "      <td>89.7</td>\n",
       "      <td>2.4</td>\n",
       "      <td>83</td>\n",
       "      <td>3</td>\n",
       "    </tr>\n",
       "    <tr>\n",
       "      <th>3</th>\n",
       "      <td>0500000US04005</td>\n",
       "      <td>Coconino County, Arizona</td>\n",
       "      <td>47275</td>\n",
       "      <td>2211</td>\n",
       "      <td>29827</td>\n",
       "      <td>2311</td>\n",
       "      <td>10121</td>\n",
       "      <td>1501</td>\n",
       "      <td>22621</td>\n",
       "      <td>1951</td>\n",
       "      <td>...</td>\n",
       "      <td>NaN</td>\n",
       "      <td>NaN</td>\n",
       "      <td>0</td>\n",
       "      <td>0.1</td>\n",
       "      <td>47275</td>\n",
       "      <td>(X)</td>\n",
       "      <td>93.2</td>\n",
       "      <td>1.9</td>\n",
       "      <td>81</td>\n",
       "      <td>2.9</td>\n",
       "    </tr>\n",
       "    <tr>\n",
       "      <th>4</th>\n",
       "      <td>0500000US04013</td>\n",
       "      <td>Maricopa County, Arizona</td>\n",
       "      <td>1582464</td>\n",
       "      <td>7714</td>\n",
       "      <td>1043279</td>\n",
       "      <td>10065</td>\n",
       "      <td>455470</td>\n",
       "      <td>7537</td>\n",
       "      <td>754513</td>\n",
       "      <td>9849</td>\n",
       "      <td>...</td>\n",
       "      <td>NaN</td>\n",
       "      <td>NaN</td>\n",
       "      <td>0.2</td>\n",
       "      <td>0.1</td>\n",
       "      <td>1582464</td>\n",
       "      <td>(X)</td>\n",
       "      <td>94.8</td>\n",
       "      <td>0.2</td>\n",
       "      <td>88.7</td>\n",
       "      <td>0.4</td>\n",
       "    </tr>\n",
       "    <tr>\n",
       "      <th>...</th>\n",
       "      <td>...</td>\n",
       "      <td>...</td>\n",
       "      <td>...</td>\n",
       "      <td>...</td>\n",
       "      <td>...</td>\n",
       "      <td>...</td>\n",
       "      <td>...</td>\n",
       "      <td>...</td>\n",
       "      <td>...</td>\n",
       "      <td>...</td>\n",
       "      <td>...</td>\n",
       "      <td>...</td>\n",
       "      <td>...</td>\n",
       "      <td>...</td>\n",
       "      <td>...</td>\n",
       "      <td>...</td>\n",
       "      <td>...</td>\n",
       "      <td>...</td>\n",
       "      <td>...</td>\n",
       "      <td>...</td>\n",
       "      <td>...</td>\n",
       "    </tr>\n",
       "    <tr>\n",
       "      <th>209</th>\n",
       "      <td>1600000US0684200</td>\n",
       "      <td>West Covina city, California</td>\n",
       "      <td>30333</td>\n",
       "      <td>1437</td>\n",
       "      <td>24247</td>\n",
       "      <td>1111</td>\n",
       "      <td>9137</td>\n",
       "      <td>1132</td>\n",
       "      <td>16121</td>\n",
       "      <td>1370</td>\n",
       "      <td>...</td>\n",
       "      <td>N</td>\n",
       "      <td>N</td>\n",
       "      <td>N</td>\n",
       "      <td>N</td>\n",
       "      <td>30333</td>\n",
       "      <td>(X)</td>\n",
       "      <td>96.2</td>\n",
       "      <td>1.3</td>\n",
       "      <td>89.7</td>\n",
       "      <td>2.6</td>\n",
       "    </tr>\n",
       "    <tr>\n",
       "      <th>210</th>\n",
       "      <td>1600000US0684550</td>\n",
       "      <td>Westminster city, California</td>\n",
       "      <td>27019</td>\n",
       "      <td>1824</td>\n",
       "      <td>21455</td>\n",
       "      <td>1248</td>\n",
       "      <td>9541</td>\n",
       "      <td>1098</td>\n",
       "      <td>15789</td>\n",
       "      <td>1343</td>\n",
       "      <td>...</td>\n",
       "      <td>NaN</td>\n",
       "      <td>NaN</td>\n",
       "      <td>0</td>\n",
       "      <td>0.2</td>\n",
       "      <td>27019</td>\n",
       "      <td>(X)</td>\n",
       "      <td>93.7</td>\n",
       "      <td>2</td>\n",
       "      <td>88.4</td>\n",
       "      <td>2.9</td>\n",
       "    </tr>\n",
       "    <tr>\n",
       "      <th>211</th>\n",
       "      <td>1600000US0685292</td>\n",
       "      <td>Whittier city, California</td>\n",
       "      <td>27672</td>\n",
       "      <td>1443</td>\n",
       "      <td>18771</td>\n",
       "      <td>782</td>\n",
       "      <td>8103</td>\n",
       "      <td>970</td>\n",
       "      <td>12403</td>\n",
       "      <td>1174</td>\n",
       "      <td>...</td>\n",
       "      <td>NaN</td>\n",
       "      <td>NaN</td>\n",
       "      <td>0</td>\n",
       "      <td>0.2</td>\n",
       "      <td>27672</td>\n",
       "      <td>(X)</td>\n",
       "      <td>92.2</td>\n",
       "      <td>2.4</td>\n",
       "      <td>82.9</td>\n",
       "      <td>3.1</td>\n",
       "    </tr>\n",
       "    <tr>\n",
       "      <th>212</th>\n",
       "      <td>1600000US0686832</td>\n",
       "      <td>Yorba Linda city, California</td>\n",
       "      <td>23217</td>\n",
       "      <td>1062</td>\n",
       "      <td>18306</td>\n",
       "      <td>844</td>\n",
       "      <td>7724</td>\n",
       "      <td>853</td>\n",
       "      <td>15450</td>\n",
       "      <td>1159</td>\n",
       "      <td>...</td>\n",
       "      <td>NaN</td>\n",
       "      <td>NaN</td>\n",
       "      <td>0.2</td>\n",
       "      <td>0.2</td>\n",
       "      <td>23217</td>\n",
       "      <td>(X)</td>\n",
       "      <td>97.9</td>\n",
       "      <td>1</td>\n",
       "      <td>96.9</td>\n",
       "      <td>1.4</td>\n",
       "    </tr>\n",
       "    <tr>\n",
       "      <th>213</th>\n",
       "      <td>1600000US0686972</td>\n",
       "      <td>Yuba City city, California</td>\n",
       "      <td>22524</td>\n",
       "      <td>1124</td>\n",
       "      <td>16459</td>\n",
       "      <td>1281</td>\n",
       "      <td>6907</td>\n",
       "      <td>893</td>\n",
       "      <td>11166</td>\n",
       "      <td>1199</td>\n",
       "      <td>...</td>\n",
       "      <td>NaN</td>\n",
       "      <td>NaN</td>\n",
       "      <td>0.2</td>\n",
       "      <td>0.3</td>\n",
       "      <td>22524</td>\n",
       "      <td>(X)</td>\n",
       "      <td>90.6</td>\n",
       "      <td>3.4</td>\n",
       "      <td>85.5</td>\n",
       "      <td>3.4</td>\n",
       "    </tr>\n",
       "  </tbody>\n",
       "</table>\n",
       "<p>214 rows × 1013 columns</p>\n",
       "</div>"
      ],
      "text/plain": [
       "               GEO_ID                          NAME  \\\n",
       "0           Geography          Geographic Area Name   \n",
       "1      0500000US04001        Apache County, Arizona   \n",
       "2      0500000US04003       Cochise County, Arizona   \n",
       "3      0500000US04005      Coconino County, Arizona   \n",
       "4      0500000US04013      Maricopa County, Arizona   \n",
       "..                ...                           ...   \n",
       "209  1600000US0684200  West Covina city, California   \n",
       "210  1600000US0684550  Westminster city, California   \n",
       "211  1600000US0685292     Whittier city, California   \n",
       "212  1600000US0686832  Yorba Linda city, California   \n",
       "213  1600000US0686972    Yuba City city, California   \n",
       "\n",
       "                                         DP02_0001E  \\\n",
       "0    Estimate!!HOUSEHOLDS BY TYPE!!Total households   \n",
       "1                                             21936   \n",
       "2                                             49751   \n",
       "3                                             47275   \n",
       "4                                           1582464   \n",
       "..                                              ...   \n",
       "209                                           30333   \n",
       "210                                           27019   \n",
       "211                                           27672   \n",
       "212                                           23217   \n",
       "213                                           22524   \n",
       "\n",
       "                                            DP02_0001M  \\\n",
       "0    Margin of Error!!HOUSEHOLDS BY TYPE!!Total hou...   \n",
       "1                                                 1023   \n",
       "2                                                 1727   \n",
       "3                                                 2211   \n",
       "4                                                 7714   \n",
       "..                                                 ...   \n",
       "209                                               1437   \n",
       "210                                               1824   \n",
       "211                                               1443   \n",
       "212                                               1062   \n",
       "213                                               1124   \n",
       "\n",
       "                                            DP02_0002E  \\\n",
       "0    Estimate!!HOUSEHOLDS BY TYPE!!Total households...   \n",
       "1                                                13927   \n",
       "2                                                31105   \n",
       "3                                                29827   \n",
       "4                                              1043279   \n",
       "..                                                 ...   \n",
       "209                                              24247   \n",
       "210                                              21455   \n",
       "211                                              18771   \n",
       "212                                              18306   \n",
       "213                                              16459   \n",
       "\n",
       "                                            DP02_0002M  \\\n",
       "0    Margin of Error!!HOUSEHOLDS BY TYPE!!Total hou...   \n",
       "1                                                 1048   \n",
       "2                                                 1978   \n",
       "3                                                 2311   \n",
       "4                                                10065   \n",
       "..                                                 ...   \n",
       "209                                               1111   \n",
       "210                                               1248   \n",
       "211                                                782   \n",
       "212                                                844   \n",
       "213                                               1281   \n",
       "\n",
       "                                            DP02_0003E  \\\n",
       "0    Estimate!!HOUSEHOLDS BY TYPE!!Total households...   \n",
       "1                                                 4699   \n",
       "2                                                11722   \n",
       "3                                                10121   \n",
       "4                                               455470   \n",
       "..                                                 ...   \n",
       "209                                               9137   \n",
       "210                                               9541   \n",
       "211                                               8103   \n",
       "212                                               7724   \n",
       "213                                               6907   \n",
       "\n",
       "                                            DP02_0003M  \\\n",
       "0    Margin of Error!!HOUSEHOLDS BY TYPE!!Total hou...   \n",
       "1                                                  769   \n",
       "2                                                 1658   \n",
       "3                                                 1501   \n",
       "4                                                 7537   \n",
       "..                                                 ...   \n",
       "209                                               1132   \n",
       "210                                               1098   \n",
       "211                                                970   \n",
       "212                                                853   \n",
       "213                                                893   \n",
       "\n",
       "                                            DP02_0004E  \\\n",
       "0    Estimate!!HOUSEHOLDS BY TYPE!!Total households...   \n",
       "1                                                 8137   \n",
       "2                                                23517   \n",
       "3                                                22621   \n",
       "4                                               754513   \n",
       "..                                                 ...   \n",
       "209                                              16121   \n",
       "210                                              15789   \n",
       "211                                              12403   \n",
       "212                                              15450   \n",
       "213                                              11166   \n",
       "\n",
       "                                            DP02_0004M  ...  \\\n",
       "0    Margin of Error!!HOUSEHOLDS BY TYPE!!Total hou...  ...   \n",
       "1                                                  951  ...   \n",
       "2                                                 1854  ...   \n",
       "3                                                 1951  ...   \n",
       "4                                                 9849  ...   \n",
       "..                                                 ...  ...   \n",
       "209                                               1370  ...   \n",
       "210                                               1343  ...   \n",
       "211                                               1174  ...   \n",
       "212                                               1159  ...   \n",
       "213                                               1199  ...   \n",
       "\n",
       "                                          DP02_0148PMA  \\\n",
       "0    Percent Annotation of Margin of Error!!ANCESTR...   \n",
       "1                                                    N   \n",
       "2                                                  NaN   \n",
       "3                                                  NaN   \n",
       "4                                                  NaN   \n",
       "..                                                 ...   \n",
       "209                                                  N   \n",
       "210                                                NaN   \n",
       "211                                                NaN   \n",
       "212                                                NaN   \n",
       "213                                                NaN   \n",
       "\n",
       "                                          DP02_0148PEA  \\\n",
       "0    Percent Annotation of Estimate!!ANCESTRY!!Tota...   \n",
       "1                                                    N   \n",
       "2                                                  NaN   \n",
       "3                                                  NaN   \n",
       "4                                                  NaN   \n",
       "..                                                 ...   \n",
       "209                                                  N   \n",
       "210                                                NaN   \n",
       "211                                                NaN   \n",
       "212                                                NaN   \n",
       "213                                                NaN   \n",
       "\n",
       "                                           DP02_0149PE  \\\n",
       "0    Percent Estimate!!ANCESTRY!!Total population!!...   \n",
       "1                                                    N   \n",
       "2                                                  0.2   \n",
       "3                                                    0   \n",
       "4                                                  0.2   \n",
       "..                                                 ...   \n",
       "209                                                  N   \n",
       "210                                                  0   \n",
       "211                                                  0   \n",
       "212                                                0.2   \n",
       "213                                                0.2   \n",
       "\n",
       "                                           DP02_0149PM  \\\n",
       "0    Percent Margin of Error!!ANCESTRY!!Total popul...   \n",
       "1                                                    N   \n",
       "2                                                  0.2   \n",
       "3                                                  0.1   \n",
       "4                                                  0.1   \n",
       "..                                                 ...   \n",
       "209                                                  N   \n",
       "210                                                0.2   \n",
       "211                                                0.2   \n",
       "212                                                0.2   \n",
       "213                                                0.3   \n",
       "\n",
       "                                           DP02_0150PE  \\\n",
       "0    Percent Estimate!!COMPUTERS AND INTERNET USE!!...   \n",
       "1                                                21936   \n",
       "2                                                49751   \n",
       "3                                                47275   \n",
       "4                                              1582464   \n",
       "..                                                 ...   \n",
       "209                                              30333   \n",
       "210                                              27019   \n",
       "211                                              27672   \n",
       "212                                              23217   \n",
       "213                                              22524   \n",
       "\n",
       "                                           DP02_0150PM  \\\n",
       "0    Percent Margin of Error!!COMPUTERS AND INTERNE...   \n",
       "1                                                  (X)   \n",
       "2                                                  (X)   \n",
       "3                                                  (X)   \n",
       "4                                                  (X)   \n",
       "..                                                 ...   \n",
       "209                                                (X)   \n",
       "210                                                (X)   \n",
       "211                                                (X)   \n",
       "212                                                (X)   \n",
       "213                                                (X)   \n",
       "\n",
       "                                           DP02_0151PE  \\\n",
       "0    Percent Estimate!!COMPUTERS AND INTERNET USE!!...   \n",
       "1                                                 52.9   \n",
       "2                                                 89.7   \n",
       "3                                                 93.2   \n",
       "4                                                 94.8   \n",
       "..                                                 ...   \n",
       "209                                               96.2   \n",
       "210                                               93.7   \n",
       "211                                               92.2   \n",
       "212                                               97.9   \n",
       "213                                               90.6   \n",
       "\n",
       "                                           DP02_0151PM  \\\n",
       "0    Percent Margin of Error!!COMPUTERS AND INTERNE...   \n",
       "1                                                  3.4   \n",
       "2                                                  2.4   \n",
       "3                                                  1.9   \n",
       "4                                                  0.2   \n",
       "..                                                 ...   \n",
       "209                                                1.3   \n",
       "210                                                  2   \n",
       "211                                                2.4   \n",
       "212                                                  1   \n",
       "213                                                3.4   \n",
       "\n",
       "                                           DP02_0152PE  \\\n",
       "0    Percent Estimate!!COMPUTERS AND INTERNET USE!!...   \n",
       "1                                                 35.3   \n",
       "2                                                   83   \n",
       "3                                                   81   \n",
       "4                                                 88.7   \n",
       "..                                                 ...   \n",
       "209                                               89.7   \n",
       "210                                               88.4   \n",
       "211                                               82.9   \n",
       "212                                               96.9   \n",
       "213                                               85.5   \n",
       "\n",
       "                                           DP02_0152PM  \n",
       "0    Percent Margin of Error!!COMPUTERS AND INTERNE...  \n",
       "1                                                  3.5  \n",
       "2                                                    3  \n",
       "3                                                  2.9  \n",
       "4                                                  0.4  \n",
       "..                                                 ...  \n",
       "209                                                2.6  \n",
       "210                                                2.9  \n",
       "211                                                3.1  \n",
       "212                                                1.4  \n",
       "213                                                3.4  \n",
       "\n",
       "[214 rows x 1013 columns]"
      ]
     },
     "execution_count": 42,
     "metadata": {},
     "output_type": "execute_result"
    }
   ],
   "source": [
    "df.reset_index(drop=True)"
   ]
  },
  {
   "cell_type": "markdown",
   "id": "fc544d90",
   "metadata": {},
   "source": [
    "# Replace Data Value, Value= N/Null"
   ]
  },
  {
   "cell_type": "code",
   "execution_count": 44,
   "id": "2e3e1f04",
   "metadata": {},
   "outputs": [],
   "source": [
    "df[\"DP02_0036E\"] = df[\"DP02_0036E\"].str.replace(\"N\",\"MANAGEMENT\")"
   ]
  },
  {
   "cell_type": "code",
   "execution_count": 46,
   "id": "10b9fc19",
   "metadata": {},
   "outputs": [
    {
     "data": {
      "text/plain": [
       "0      Estimate!!FERTILITY!!MANAGEMENTumber of women ...\n",
       "1                                                    618\n",
       "2                                                    786\n",
       "3                                                    692\n",
       "4                                                  60967\n",
       "                             ...                        \n",
       "209                                                  578\n",
       "210                                                  614\n",
       "211                                                  884\n",
       "212                                                  934\n",
       "213                                                 1188\n",
       "Name: DP02_0036E, Length: 214, dtype: object"
      ]
     },
     "execution_count": 46,
     "metadata": {},
     "output_type": "execute_result"
    }
   ],
   "source": [
    "df[\"DP02_0036E\"]"
   ]
  },
  {
   "cell_type": "code",
   "execution_count": 47,
   "id": "8096dae8",
   "metadata": {},
   "outputs": [],
   "source": [
    "df[\"DP02_0036M\"] = df[\"DP02_0036M\"].str.replace(\"N\",\"Zero\")"
   ]
  },
  {
   "cell_type": "code",
   "execution_count": 48,
   "id": "955c6ac6",
   "metadata": {},
   "outputs": [
    {
     "data": {
      "text/plain": [
       "0      Margin of Error!!FERTILITY!!Zeroumber of women...\n",
       "1                                                    311\n",
       "2                                                    373\n",
       "3                                                    312\n",
       "4                                                   4427\n",
       "                             ...                        \n",
       "209                                                  335\n",
       "210                                                  351\n",
       "211                                                  497\n",
       "212                                                  535\n",
       "213                                                  507\n",
       "Name: DP02_0036M, Length: 214, dtype: object"
      ]
     },
     "execution_count": 48,
     "metadata": {},
     "output_type": "execute_result"
    }
   ],
   "source": [
    "df[\"DP02_0036M\"]"
   ]
  },
  {
   "cell_type": "code",
   "execution_count": 49,
   "id": "54c57dc4",
   "metadata": {},
   "outputs": [],
   "source": [
    "df[\"DP02_0037E\"] = df[\"DP02_0037E\"].str.replace(\"N\",\"Zero\")"
   ]
  },
  {
   "cell_type": "code",
   "execution_count": null,
   "id": "ace907b7",
   "metadata": {},
   "outputs": [],
   "source": [
    "df[\"DP02_0037M\"] = df[\"DP02_0037M\"].str.replace(\"N\",\"Zero\")"
   ]
  },
  {
   "cell_type": "code",
   "execution_count": null,
   "id": "4b9daa0d",
   "metadata": {},
   "outputs": [],
   "source": [
    "df[\"DP02_0038E\"] = df[\"DP02_0038E\"].str.replace(\"N\",\"Zero\")"
   ]
  },
  {
   "cell_type": "code",
   "execution_count": null,
   "id": "d1b26100",
   "metadata": {},
   "outputs": [],
   "source": [
    "df[\"DP02_0038M\"] = df[\"DP02_0038M\"].str.replace(\"N\",\"Zero\")"
   ]
  },
  {
   "cell_type": "code",
   "execution_count": 50,
   "id": "f897392a",
   "metadata": {},
   "outputs": [],
   "source": [
    "df[\"DP02_0039E\"] = df[\"DP02_0039E\"].str.replace(\"N\",\"Zero\")"
   ]
  },
  {
   "cell_type": "markdown",
   "id": "1657b72f",
   "metadata": {},
   "source": [
    "# Data Reflection"
   ]
  },
  {
   "cell_type": "code",
   "execution_count": 51,
   "id": "d8909c59",
   "metadata": {},
   "outputs": [
    {
     "data": {
      "text/plain": [
       "array(['Percent Annotation of Margin of Error!!FERTILITY!!Number of women 15 to 50 years old who had a birth in the past 12 months!!Per 1,000 women 35 to 50 years old',\n",
       "       '(X)', 'N'], dtype=object)"
      ]
     },
     "execution_count": 51,
     "metadata": {},
     "output_type": "execute_result"
    }
   ],
   "source": [
    "df[\"DP02_0042PMA\"].unique()"
   ]
  },
  {
   "cell_type": "code",
   "execution_count": 54,
   "id": "ca48cae7",
   "metadata": {},
   "outputs": [],
   "source": [
    "df['DP02_0122PMA'] = df['DP02_0122PMA'].map({'(X)':'Null','N':'Null'})"
   ]
  },
  {
   "cell_type": "code",
   "execution_count": 55,
   "id": "1c8405f5",
   "metadata": {},
   "outputs": [
    {
     "data": {
      "text/plain": [
       "array(['Percent Annotation of Margin of Error!!FERTILITY!!Number of women 15 to 50 years old who had a birth in the past 12 months!!Per 1,000 women 35 to 50 years old',\n",
       "       '(X)', 'N'], dtype=object)"
      ]
     },
     "execution_count": 55,
     "metadata": {},
     "output_type": "execute_result"
    }
   ],
   "source": [
    "df[\"DP02_0042PMA\"].unique()"
   ]
  }
 ],
 "metadata": {
  "kernelspec": {
   "display_name": "Python 3 (ipykernel)",
   "language": "python",
   "name": "python3"
  },
  "language_info": {
   "codemirror_mode": {
    "name": "ipython",
    "version": 3
   },
   "file_extension": ".py",
   "mimetype": "text/x-python",
   "name": "python",
   "nbconvert_exporter": "python",
   "pygments_lexer": "ipython3",
   "version": "3.9.7"
  }
 },
 "nbformat": 4,
 "nbformat_minor": 5
}
